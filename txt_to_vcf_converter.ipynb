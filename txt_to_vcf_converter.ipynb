{
  "cells": [
    {
      "cell_type": "markdown",
      "metadata": {
        "id": "GoTekwCMKNnA"
      },
      "source": [
        "txt to column extract with logic\n",
        "sample txt:\n",
        "\n",
        "\n",
        "```\n",
        "CS 1202425011031 Jhone Doe 1***569437 63 53 10 0 84%\n",
        "CS 1202425011032 JANE P LINA 1***829745 63 31 32 0 49%\n",
        "ECE CS 1202425033740 ADAM 1***370202 63 15 48 24%\n",
        "\n",
        "```\n",
        "logic is to remove 13 digit column and any column(s) before it. then take 10 digit as phone number and add +880 with it. after that, take previous column as name.\n"
      ]
    },
    {
      "cell_type": "code",
      "execution_count": null,
      "metadata": {
        "colab": {
          "base_uri": "https://localhost:8080/"
        },
        "id": "B-Eopy3GGEFS",
        "outputId": "2173b977-9397-487b-e659-f5943cdb4107"
      },
      "outputs": [],
      "source": [
        "import pandas as pd\n",
        "import re\n",
        "\n",
        "# Empty lists to hold names and numbers\n",
        "names = []\n",
        "numbers = []\n",
        "\n",
        "# Opening the file in read mode\n",
        "with open('data.txt', 'r') as file:\n",
        "    # Loop through each line in the file\n",
        "    for line in file:\n",
        "        # Split lines into words\n",
        "        columns = line.split()\n",
        "\n",
        "        # This will remove column up to and including the first 13-digit number\n",
        "        for i, word in enumerate(columns):\n",
        "            if len(word) == 13 and word.isdigit():  # 13-digit number\n",
        "                columns = columns[i+1:]  # removing before and including this one\n",
        "                break\n",
        "\n",
        "        \n",
        "        # Finding the 10 digit number with regular expression\n",
        "        for i, word in enumerate(columns):\n",
        "            if re.match(r'^\\d{10}$', word):  # Match 10-digit numbers\n",
        "                # Everything before the 10-digit number is the name\n",
        "                name = ' '.join(columns[:i]) + \"-ok\"\n",
        "                # The 10-digit number is the number, prepend '+880'\n",
        "                number = '+880' + word\n",
        "                # now append the lists\n",
        "                names.append(name)\n",
        "                numbers.append(number)\n",
        "                break\n",
        "\n",
        "#  DataFrame from the lists\n",
        "df = pd.DataFrame({\n",
        "    'Name': names,\n",
        "    'Number': numbers\n",
        "})\n",
        "\n",
        "# Printing df\n",
        "print(df)"
      ]
    },
    {
      "cell_type": "code",
      "execution_count": null,
      "metadata": {
        "colab": {
          "base_uri": "https://localhost:8080/"
        },
        "id": "B_eAv-ngHcaO",
        "outputId": "704c111d-1824-4cab-f217-6d674f8bdbd2"
      },
      "outputs": [],
      "source": [
        "# path for the output VCF file\n",
        "vcf_file_path = 'contacts.vcf'\n",
        "\n",
        "# Open the VCF file for writing\n",
        "with open(vcf_file_path, 'w') as vcf_file:\n",
        "    # Loop through each contact in the DataFrame\n",
        "    for i in range(len(df)):\n",
        "        \n",
        "        name = df.loc[i, 'Name']\n",
        "        number = df.loc[i, 'Number']\n",
        "\n",
        "        # Write the vCard content to the file\n",
        "        vcf_file.write(f\"BEGIN:VCARD\\n\")\n",
        "        vcf_file.write(f\"VERSION:3.0\\n\")\n",
        "        vcf_file.write(f\"FN:{name}\\n\")\n",
        "        vcf_file.write(f\"TEL:{number}\\n\")\n",
        "        vcf_file.write(f\"END:VCARD\\n\\n\")\n",
        "\n",
        "print(f\"VCF file has been saved as {vcf_file_path}\")"
      ]
    }
  ],
  "metadata": {
    "colab": {
      "provenance": []
    },
    "kernelspec": {
      "display_name": "Python 3",
      "name": "python3"
    },
    "language_info": {
      "name": "python"
    }
  },
  "nbformat": 4,
  "nbformat_minor": 0
}
